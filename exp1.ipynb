{
  "nbformat": 4,
  "nbformat_minor": 0,
  "metadata": {
    "colab": {
      "name": "exp1.ipynb",
      "version": "0.3.2",
      "provenance": [],
      "collapsed_sections": [],
      "include_colab_link": true
    },
    "kernelspec": {
      "name": "python3",
      "display_name": "Python 3"
    }
  },
  "cells": [
    {
      "cell_type": "markdown",
      "metadata": {
        "id": "view-in-github",
        "colab_type": "text"
      },
      "source": [
        "<a href=\"https://colab.research.google.com/github/sanattaori/Soft_Computing/blob/master/exp1.ipynb\" target=\"_parent\"><img src=\"https://colab.research.google.com/assets/colab-badge.svg\" alt=\"Open In Colab\"/></a>"
      ]
    },
    {
      "metadata": {
        "id": "4IubRamip0ht",
        "colab_type": "text"
      },
      "cell_type": "markdown",
      "source": [
        "# Experiment 1 \n",
        "## logical XOR\n"
      ]
    },
    {
      "metadata": {
        "id": "dy__4CYjpARu",
        "colab_type": "code",
        "colab": {}
      },
      "cell_type": "code",
      "source": [
        "import numpy as np\n",
        "import pandas as pd"
      ],
      "execution_count": 0,
      "outputs": []
    },
    {
      "metadata": {
        "id": "v2-TP5RRqpXH",
        "colab_type": "text"
      },
      "cell_type": "markdown",
      "source": [
        "### Logical AND\n",
        "![alt text](https://d17h27t6h515a5.cloudfront.net/topher/2017/May/5912bf0e_and-quiz/and-quiz.png)"
      ]
    },
    {
      "metadata": {
        "id": "k6q9-z_mqBQL",
        "colab_type": "code",
        "colab": {}
      },
      "cell_type": "code",
      "source": [
        "def cal_output_and(threshold=0):\n",
        "  weight1 = 1\n",
        "  weight2 = 1\n",
        "  bias = 0\n",
        "\n",
        "  test_inputs = [(0, 0), (0, 1), (1, 0), (1, 1)]\n",
        "  correct_outputs = [False, False, False, True]\n",
        "  outputs = []\n",
        "\n",
        "  for test_input, correct_output in zip(test_inputs, correct_outputs):\n",
        "      linear_combination = weight1 * test_input[0] + weight2 * test_input[1] + bias\n",
        "      output = int(linear_combination >= threshold)\n",
        "      is_correct_string = 'Yes' if output == correct_output else 'No'\n",
        "      outputs.append([test_input[0], test_input[1], linear_combination, output, is_correct_string])\n",
        "\n",
        "  num_wrong = len([output[4] for output in outputs if output[4] == 'No'])\n",
        "  output_frame = pd.DataFrame(outputs, columns=['Input 1', '  Input 2', '  Linear Combination', '  Activation Output', '  Is Correct'])\n",
        "  if not num_wrong:\n",
        "      print('all correct for threshold {}.\\n'.format(threshold))\n",
        "  else:\n",
        "      threshold = threshold + 1\n",
        "      cal_output_and(threshold)\n",
        "      print('{} wrong, for threshold {}  \\n'.format(num_wrong,threshold))\n",
        "  print(output_frame.to_string())\n",
        "  \n",
        "  return threshold\n",
        "\n"
      ],
      "execution_count": 0,
      "outputs": []
    },
    {
      "metadata": {
        "id": "ADVfJjP00jGn",
        "colab_type": "code",
        "outputId": "d9ceda2c-a28f-4df7-bd28-0a8dd5475bfe",
        "colab": {
          "base_uri": "https://localhost:8080/",
          "height": 395
        }
      },
      "cell_type": "code",
      "source": [
        "t = cal_output_and()"
      ],
      "execution_count": 169,
      "outputs": [
        {
          "output_type": "stream",
          "text": [
            "all correct for threshold 2.\n",
            "\n",
            "   Input 1    Input 2    Linear Combination    Activation Output   Is Correct\n",
            "0        0          0                     0                    0          Yes\n",
            "1        0          1                     1                    0          Yes\n",
            "2        1          0                     1                    0          Yes\n",
            "3        1          1                     2                    1          Yes\n",
            "2 wrong, for threshold 2  \n",
            "\n",
            "   Input 1    Input 2    Linear Combination    Activation Output   Is Correct\n",
            "0        0          0                     0                    0          Yes\n",
            "1        0          1                     1                    1           No\n",
            "2        1          0                     1                    1           No\n",
            "3        1          1                     2                    1          Yes\n",
            "3 wrong, for threshold 1  \n",
            "\n",
            "   Input 1    Input 2    Linear Combination    Activation Output   Is Correct\n",
            "0        0          0                     0                    1           No\n",
            "1        0          1                     1                    1           No\n",
            "2        1          0                     1                    1           No\n",
            "3        1          1                     2                    1          Yes\n"
          ],
          "name": "stdout"
        }
      ]
    },
    {
      "metadata": {
        "id": "XbCgLYqv8KPX",
        "colab_type": "code",
        "colab": {
          "base_uri": "https://localhost:8080/",
          "height": 35
        },
        "outputId": "5014e28c-2d4d-4281-9983-7be801e3a1eb"
      },
      "cell_type": "code",
      "source": [
        "t"
      ],
      "execution_count": 170,
      "outputs": [
        {
          "output_type": "execute_result",
          "data": {
            "text/plain": [
              "1"
            ]
          },
          "metadata": {
            "tags": []
          },
          "execution_count": 170
        }
      ]
    },
    {
      "metadata": {
        "id": "MNm88pDzvO0e",
        "colab_type": "text"
      },
      "cell_type": "markdown",
      "source": [
        "### Logical OR"
      ]
    },
    {
      "metadata": {
        "id": "dD3Sao42-QhL",
        "colab_type": "code",
        "colab": {}
      },
      "cell_type": "code",
      "source": [
        "def cal_output_or(threshold=0):\n",
        "  weight1 = 1\n",
        "  weight2 = 1\n",
        "  bias = 0\n",
        "\n",
        "  test_inputs = [(0, 0), (0, 1), (1, 0), (1, 1)]\n",
        "  correct_outputs = [False, True, True, True]\n",
        "  outputs = []\n",
        "\n",
        "  for test_input, correct_output in zip(test_inputs, correct_outputs):\n",
        "      linear_combination = weight1 * test_input[0] + weight2 * test_input[1] + bias\n",
        "      output = int(linear_combination >= threshold)\n",
        "      is_correct_string = 'Yes' if output == correct_output else 'No'\n",
        "      outputs.append([test_input[0], test_input[1], linear_combination, output, is_correct_string])\n",
        "\n",
        "  num_wrong = len([output[4] for output in outputs if output[4] == 'No'])\n",
        "  output_frame = pd.DataFrame(outputs, columns=['Input 1', '  Input 2', '  Linear Combination', '  Activation Output', '  Is Correct'])\n",
        "  if not num_wrong:\n",
        "      print('all correct for threshold {}.\\n'.format(threshold))\n",
        "  else:\n",
        "      threshold = threshold + 1\n",
        "      cal_output_or(threshold)\n",
        "      print('{} wrong, for threshold {}  \\n'.format(num_wrong,threshold))\n",
        "  print(output_frame.to_string())\n",
        "\n",
        "  return threshold\n"
      ],
      "execution_count": 0,
      "outputs": []
    },
    {
      "metadata": {
        "id": "bMH9Dtgwvfss",
        "colab_type": "code",
        "colab": {
          "base_uri": "https://localhost:8080/",
          "height": 269
        },
        "outputId": "27905591-e87d-4402-e862-9811a3416426"
      },
      "cell_type": "code",
      "source": [
        "cal_output_or()"
      ],
      "execution_count": 32,
      "outputs": [
        {
          "output_type": "stream",
          "text": [
            "all correct for threshold 1.\n",
            "\n",
            "   Input 1    Input 2    Linear Combination    Activation Output   Is Correct\n",
            "0        0          0                     0                    0          Yes\n",
            "1        0          1                     1                    1          Yes\n",
            "2        1          0                     1                    1          Yes\n",
            "3        1          1                     2                    1          Yes\n",
            "1 wrong, for threshold 1  \n",
            "\n",
            "   Input 1    Input 2    Linear Combination    Activation Output   Is Correct\n",
            "0        0          0                     0                    1           No\n",
            "1        0          1                     1                    1          Yes\n",
            "2        1          0                     1                    1          Yes\n",
            "3        1          1                     2                    1          Yes\n"
          ],
          "name": "stdout"
        }
      ]
    },
    {
      "metadata": {
        "id": "6A5JxmkPwIaB",
        "colab_type": "text"
      },
      "cell_type": "markdown",
      "source": [
        "### Logical NOT"
      ]
    },
    {
      "metadata": {
        "id": "W-s1_QHQvqFS",
        "colab_type": "code",
        "colab": {}
      },
      "cell_type": "code",
      "source": [
        "def cal_output_not(threshold=0):\n",
        "  weight1 = -1\n",
        "  bias = .5\n",
        "\n",
        "  test_inputs = [(0),(1)]\n",
        "  correct_outputs = [True, False]\n",
        "  outputs = []\n",
        "\n",
        "  for t_input,correct_output in zip(test_inputs, correct_outputs):\n",
        "    linear_combination = weight1*t_input+bias\n",
        "    output = int(linear_combination >= threshold)\n",
        "    is_correct_string = 'Yes' if output == correct_output else 'No'\n",
        "    outputs.append([t_input, linear_combination, output, is_correct_string])\n",
        "\n",
        "  num_wrong = len([output[3] for output in outputs if output[3] == 'No'])\n",
        "  output_frame = pd.DataFrame(outputs, columns=['Input', 'Linear Combination', '  Activation Output', '  Is Correct'])\n",
        "  if not num_wrong:\n",
        "      print('all correct for threshold {}.\\n'.format(threshold))\n",
        "  else:\n",
        "      #threshold = threshold + 1\n",
        "      #cal_output_not(threshold)\n",
        "      print('{} wrong, for threshold {}  \\n'.format(num_wrong,threshold))\n",
        "  print(output_frame.to_string())\n",
        "  \n",
        "  return threshold\n",
        "\n"
      ],
      "execution_count": 0,
      "outputs": []
    },
    {
      "metadata": {
        "id": "6z0VdvRDwNv5",
        "colab_type": "code",
        "colab": {
          "base_uri": "https://localhost:8080/",
          "height": 125
        },
        "outputId": "897bb3a5-f616-4ea0-c670-bb85f59c333d"
      },
      "cell_type": "code",
      "source": [
        "cal_output_not()"
      ],
      "execution_count": 162,
      "outputs": [
        {
          "output_type": "stream",
          "text": [
            "all correct for threshold 0.\n",
            "\n",
            "   Input  Linear Combination    Activation Output   Is Correct\n",
            "0      0                 0.5                    1          Yes\n",
            "1      1                -0.5                    0          Yes\n"
          ],
          "name": "stdout"
        },
        {
          "output_type": "execute_result",
          "data": {
            "text/plain": [
              "0"
            ]
          },
          "metadata": {
            "tags": []
          },
          "execution_count": 162
        }
      ]
    },
    {
      "metadata": {
        "id": "EuFpoVL-6K0r",
        "colab_type": "text"
      },
      "cell_type": "markdown",
      "source": [
        "### Logical XOR"
      ]
    },
    {
      "metadata": {
        "id": "Yqj1Ro1NA6qv",
        "colab_type": "code",
        "colab": {}
      },
      "cell_type": "code",
      "source": [
        "from IPython.display import clear_output"
      ],
      "execution_count": 0,
      "outputs": []
    },
    {
      "metadata": {
        "id": "veYhxfBM36Zr",
        "colab_type": "code",
        "colab": {}
      },
      "cell_type": "code",
      "source": [
        "def step_function(ip,threshold=0):\n",
        "\tif ip >= threshold:\n",
        "\t\treturn 1\n",
        "\telse:\n",
        "\t\treturn 0\n",
        "\t\n",
        "def cal_gate(x, w, b, threshold=0):\n",
        "  linear_combination = np.dot(w, x) + b\n",
        "  #print(linear_combination)\n",
        "  y = step_function(linear_combination,threshold)\n",
        "  #clear_output(wait=True)\n",
        "  return y"
      ],
      "execution_count": 0,
      "outputs": []
    },
    {
      "metadata": {
        "id": "qZY2sviw6_V_",
        "colab_type": "code",
        "colab": {}
      },
      "cell_type": "code",
      "source": [
        "def AND_gate_ip(x):\n",
        "    w = np.array([1, 1])\n",
        "    b = -1.5\n",
        "    #threshold = cal_output_or()\n",
        "    return cal_gate(x, w, b)"
      ],
      "execution_count": 0,
      "outputs": []
    },
    {
      "metadata": {
        "id": "tPOtC0xxCvh9",
        "colab_type": "code",
        "colab": {}
      },
      "cell_type": "code",
      "source": [
        "def NOT_gate_ip(x):\n",
        "  w = -1\n",
        "  b = .5\n",
        "  #threshold = cal_output_not()\n",
        "  return cal_gate(x, w, b)"
      ],
      "execution_count": 0,
      "outputs": []
    },
    {
      "metadata": {
        "id": "oxfJ4iYMEHvi",
        "colab_type": "code",
        "colab": {}
      },
      "cell_type": "code",
      "source": [
        "def OR_ip(x):\n",
        "    w = np.array([1, 1])\n",
        "    b = -0.5\n",
        "    return cal_gate(x, w, b)"
      ],
      "execution_count": 0,
      "outputs": []
    },
    {
      "metadata": {
        "id": "NWBoZcnFGh6t",
        "colab_type": "text"
      },
      "cell_type": "markdown",
      "source": [
        "![alt text](https://d17h27t6h515a5.cloudfront.net/topher/2017/May/59112a6b_xor-quiz/xor-quiz.png)"
      ]
    },
    {
      "metadata": {
        "id": "TXHtanaDBnhY",
        "colab_type": "code",
        "colab": {}
      },
      "cell_type": "code",
      "source": [
        "def Logical_XOR(x):\n",
        "    A = AND_gate_ip(x)\n",
        "    C = NOT_gate_ip(A)\n",
        "    B = OR_ip(x)\n",
        "    AND_output = np.array([C, B])\n",
        "    output = AND_gate_ip(AND_output)\n",
        "    return output"
      ],
      "execution_count": 0,
      "outputs": []
    },
    {
      "metadata": {
        "id": "c7MacZChH5gg",
        "colab_type": "code",
        "colab": {}
      },
      "cell_type": "code",
      "source": [
        "input=[(0, 0), (0, 1), (1, 0), (1, 1)]"
      ],
      "execution_count": 0,
      "outputs": []
    },
    {
      "metadata": {
        "id": "BH41FUDPH_kw",
        "colab_type": "code",
        "colab": {
          "base_uri": "https://localhost:8080/",
          "height": 89
        },
        "outputId": "508e685c-c843-46e2-bb15-74bb0f3f25c6"
      },
      "cell_type": "code",
      "source": [
        "for i in input:\n",
        "  print(Logical_XOR(i))"
      ],
      "execution_count": 284,
      "outputs": [
        {
          "output_type": "stream",
          "text": [
            "0\n",
            "1\n",
            "1\n",
            "0\n"
          ],
          "name": "stdout"
        }
      ]
    },
    {
      "metadata": {
        "id": "IsViY4sGEndd",
        "colab_type": "code",
        "colab": {}
      },
      "cell_type": "code",
      "source": [
        ""
      ],
      "execution_count": 0,
      "outputs": []
    }
  ]
}