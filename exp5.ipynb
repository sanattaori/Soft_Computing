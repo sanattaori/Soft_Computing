{
  "nbformat": 4,
  "nbformat_minor": 0,
  "metadata": {
    "colab": {
      "name": "exp5.ipynb",
      "version": "0.3.2",
      "provenance": [],
      "include_colab_link": true
    },
    "kernelspec": {
      "name": "python3",
      "display_name": "Python 3"
    },
    "accelerator": "GPU"
  },
  "cells": [
    {
      "cell_type": "markdown",
      "metadata": {
        "id": "view-in-github",
        "colab_type": "text"
      },
      "source": [
        "<a href=\"https://colab.research.google.com/github/sanattaori/Soft_Computing/blob/master/exp5.ipynb\" target=\"_parent\"><img src=\"https://colab.research.google.com/assets/colab-badge.svg\" alt=\"Open In Colab\"/></a>"
      ]
    },
    {
      "metadata": {
        "id": "215Qjz7Bin6f",
        "colab_type": "text"
      },
      "cell_type": "markdown",
      "source": [
        "## Adaline network\n"
      ]
    },
    {
      "metadata": {
        "id": "xsWwWhsUdGK_",
        "colab_type": "code",
        "colab": {}
      },
      "cell_type": "code",
      "source": [
        "import numpy as np\n",
        "import matplotlib.pyplot as plt\n",
        "import math"
      ],
      "execution_count": 0,
      "outputs": []
    },
    {
      "metadata": {
        "id": "HcudGdBaismH",
        "colab_type": "code",
        "outputId": "2fa744bf-e9d4-40d4-d05a-2894de206a2e",
        "colab": {
          "base_uri": "https://localhost:8080/",
          "height": 560
        }
      },
      "cell_type": "code",
      "source": [
        "LEARNING_RATE = 0.5\n",
        "\n",
        "def step(x):\n",
        "    if (x > 0):\n",
        "        return 1\n",
        "    else:\n",
        "        return -1;\n",
        "\n",
        "INPUTS = np.array([[-1,-1,1],\n",
        "                   [-1,1,1],\n",
        "                   [1,-1,1],\n",
        "                   [1,1,1] ])\n",
        "\n",
        "OUTPUTS = np.array([[-1,1,1,1]]).T\n",
        "\n",
        "WEIGHTS = np.array([[0],[0],[0]])\n",
        "print(\"Random Weights {} before training\".format(WEIGHTS))\n",
        "\n",
        "errors=[]\n",
        "\n",
        "for iter in range(1000):\n",
        "\n",
        "    for input_item,desired in zip(INPUTS, OUTPUTS):\n",
        "        \n",
        "        ADALINE_OUTPUT = (input_item[0]*WEIGHTS[0]) + (input_item[1]*WEIGHTS[1]) + (input_item[2]*WEIGHTS[2])\n",
        "\n",
        "        ADALINE_OUTPUT = step(ADALINE_OUTPUT)\n",
        "\n",
        "        ERROR = desired - ADALINE_OUTPUT\n",
        "        \n",
        "        errors.append(ERROR)\n",
        "        \n",
        "        WEIGHTS[0] = WEIGHTS[0] + LEARNING_RATE * ERROR * input_item[0]\n",
        "        WEIGHTS[1] = WEIGHTS[1] + LEARNING_RATE * ERROR * input_item[1]\n",
        "        WEIGHTS[2] = WEIGHTS[2] + LEARNING_RATE * ERROR * input_item[2]\n",
        "    \n",
        "\n",
        "print(\"Random Weights {} after training\".format(WEIGHTS))\n",
        "for input_item,desired in zip(INPUTS, OUTPUTS):\n",
        "    ADALINE_OUTPUT = (input_item[0]*WEIGHTS[0]) + (input_item[1]*WEIGHTS[1]) + (input_item[2]*WEIGHTS[2])\n",
        "\n",
        "    ADALINE_OUTPUT = step(ADALINE_OUTPUT)\n",
        "\n",
        "    print(\"Actual {} desired {} \".format(ADALINE_OUTPUT,desired))\n",
        "\n",
        "\n",
        "ax = plt.subplot(111)\n",
        "ax.plot(errors, c='#aaaaff', label='Training Errors')\n",
        "ax.set_xscale(\"log\")\n",
        "plt.title(\"ADALINE Errors (2,-2)\")\n",
        "plt.legend()\n",
        "plt.xlabel('Error')\n",
        "plt.ylabel('Value')\n",
        "plt.show()\n"
      ],
      "execution_count": 27,
      "outputs": [
        {
          "output_type": "stream",
          "text": [
            "Random Weights [[0]\n",
            " [0]\n",
            " [0]] before training\n",
            "Random Weights [[1]\n",
            " [1]\n",
            " [1]] after training\n",
            "Actual -1 desired [-1] \n",
            "Actual 1 desired [1] \n",
            "Actual 1 desired [1] \n",
            "Actual 1 desired [1] \n"
          ],
          "name": "stdout"
        },
        {
          "output_type": "display_data",
          "data": {
            "image/png": "[encoded data removed]",
            "text/plain": [
              "<matplotlib.figure.Figure at 0x7f6614b3b898>"
            ]
          },
          "metadata": {
            "tags": []
          }
        }
      ]
    },
    {
      "metadata": {
        "id": "CpCJOqqPl__T",
        "colab_type": "code",
        "colab": {}
      },
      "cell_type": "code",
      "source": [
        ""
      ],
      "execution_count": 0,
      "outputs": []
    }
  ]
}